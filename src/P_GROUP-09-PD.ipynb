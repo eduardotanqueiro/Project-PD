{
 "cells": [
  {
   "cell_type": "markdown",
   "metadata": {},
   "source": [
    "# Prospecção de Dados (Data Mining) DI/FCUL - Project\n",
    "\n",
    "## Project (MC/DI/FCUL - 2024)\n",
    "\n",
    "### GROUP:`09`\n",
    "\n",
    "* Afonso Gama, 55857 - x Hours\n",
    "* Eduardo Carneiro, 62515 - 2 Hours\n",
    "* Guilherme Rosario, 62543 - x Hours\n",
    "* Marco Viana, 62550 - x Hours"
   ]
  },
  {
   "cell_type": "markdown",
   "metadata": {},
   "source": [
    "# TODO list:\n"
   ]
  },
  {
   "cell_type": "code",
   "execution_count": 1,
   "metadata": {},
   "outputs": [],
   "source": [
    "import pickle"
   ]
  },
  {
   "cell_type": "code",
   "execution_count": 4,
   "metadata": {},
   "outputs": [],
   "source": [
    "# Load the dataset\n",
    "with open('../data/mol_bits.pkl', 'rb') as f:\n",
    "    data = pickle.load(f)"
   ]
  },
  {
   "cell_type": "code",
   "execution_count": null,
   "metadata": {},
   "outputs": [],
   "source": [
    "print(type(data))\n",
    "print(data)"
   ]
  },
  {
   "cell_type": "markdown",
   "metadata": {},
   "source": [
    "---"
   ]
  },
  {
   "cell_type": "code",
   "execution_count": 22,
   "metadata": {},
   "outputs": [],
   "source": [
    "# Load the data from the csvs\n",
    "import pandas as pd\n",
    "import numpy as np\n",
    "\n",
    "df_train = pd.read_csv(\"../data/activity_train.csv\", header=None)\n",
    "df_test = pd.read_csv(\"../data/activity_test_blanked.csv\", header=None)"
   ]
  },
  {
   "cell_type": "code",
   "execution_count": 30,
   "metadata": {},
   "outputs": [],
   "source": [
    "# Pre-Processing\n",
    "from sklearn.preprocessing import LabelEncoder\n",
    "\n",
    "# Train\n",
    "# Get the input arrays from the df\n",
    "X_train_labels_x1 = df_train.iloc[:,0].to_numpy()\n",
    "X_train_labels_x2 = df_train.iloc[:,1].to_numpy()\n",
    "\n",
    "# Get unique values in x1 and convert them into integers\n",
    "label_enc_x1 = LabelEncoder()\n",
    "label_enc_x1.fit(X_train_labels_x1)\n",
    "X_train_transformed_x1 = label_enc_x1.transform(X_train_labels_x1)\n",
    "\n",
    "# Get unique values in x2 and convert them into integers\n",
    "label_enc_x2 = LabelEncoder()\n",
    "label_enc_x2.fit(X_train_labels_x2)\n",
    "X_train_transformed_x2 = label_enc_x2.transform(X_train_labels_x2)\n",
    "\n",
    "# ---\n",
    "\n",
    "# Test\n",
    "# Get the input arrays from the df\n",
    "X_test_labels_x1 = df_test.iloc[:,0].to_numpy()\n",
    "X_test_labels_x2 = df_test.iloc[:,1].to_numpy()\n",
    "\n",
    "# Convert values into integers\n",
    "X_test_transformed_x1 = label_enc_x1.transform(X_test_labels_x1)\n",
    "\n",
    "# Get unique values in x2 and convert them into integers\n",
    "label_enc_x2_test = LabelEncoder()\n",
    "label_enc_x2_test.fit(X_test_labels_x2)\n",
    "X_test_transformed_x2 = label_enc_x2_test.transform(X_test_labels_x2)"
   ]
  },
  {
   "cell_type": "code",
   "execution_count": 31,
   "metadata": {},
   "outputs": [],
   "source": [
    "# Get final inputs for the model\n",
    "X_train = np.column_stack((X_train_transformed_x1, X_train_transformed_x2))\n",
    "Y_train = df_train.iloc[:,2].to_numpy()\n",
    "\n",
    "X_test = np.column_stack((X_test_transformed_x1, X_test_transformed_x2))"
   ]
  },
  {
   "cell_type": "code",
   "execution_count": 32,
   "metadata": {},
   "outputs": [
    {
     "data": {
      "text/plain": [
       "array([4.93, 5.17, 5.17, ..., 2.1 , 2.1 , 2.1 ])"
      ]
     },
     "execution_count": 32,
     "metadata": {},
     "output_type": "execute_result"
    }
   ],
   "source": [
    "from sklearn.ensemble import RandomForestRegressor\n",
    "from sklearn.linear_model import LogisticRegression\n",
    "\n",
    "from sklearn.datasets import make_regression\n",
    "\n",
    "# SVM\n",
    "# NN ??\n",
    "# print(X)\n",
    "\n",
    "# Train the model\n",
    "model_rfr = RandomForestRegressor(n_estimators=100, random_state=42)\n",
    "model_rfr.fit(X_train, Y_train)\n",
    "\n",
    "# Get the predictions\n",
    "rfr_predictions = model_rfr.predict(X_test)"
   ]
  }
 ],
 "metadata": {
  "kernelspec": {
   "display_name": "Python 3.11.3 ('venv_PD_assign1': venv)",
   "language": "python",
   "name": "python3"
  },
  "language_info": {
   "codemirror_mode": {
    "name": "ipython",
    "version": 3
   },
   "file_extension": ".py",
   "mimetype": "text/x-python",
   "name": "python",
   "nbconvert_exporter": "python",
   "pygments_lexer": "ipython3",
   "version": "3.11.3"
  },
  "orig_nbformat": 4,
  "vscode": {
   "interpreter": {
    "hash": "20c74cdbc8ec2e3c4e198006583141587c25c644c92a437c5bbd09c99dae4fd0"
   }
  }
 },
 "nbformat": 4,
 "nbformat_minor": 2
}
