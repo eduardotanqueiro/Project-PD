{
 "cells": [
  {
   "cell_type": "markdown",
   "metadata": {},
   "source": [
    "# Prospecção de Dados (Data Mining) DI/FCUL - Project\n",
    "\n",
    "## Project (MC/DI/FCUL - 2024)\n",
    "\n",
    "### GROUP:`09`\n",
    "\n",
    "* Afonso Gama, 55857 - x Hours\n",
    "* Eduardo Carneiro, 62515 - 3 Hours\n",
    "* Guilherme Rosario, 62543 - x Hours\n",
    "* Marco Viana, 62550 - x Hours"
   ]
  },
  {
   "cell_type": "markdown",
   "metadata": {},
   "source": [
    "# TODO list:\n",
    "- Compare which molecules are similar based on the fingerprints\n",
    "    - Get metric for similarity and understand how the the similar ones can be used to aid the prediction\n",
    "\n",
    "\n",
    "- Split the activity training dataset into training and validation\n",
    "    - Create a function to train the model iteratively and validate it at certain intervals, plot the results in the end of the training\n",
    "\n",
    "\n",
    "- Test more models\n"
   ]
  },
  {
   "cell_type": "code",
   "execution_count": 1,
   "metadata": {},
   "outputs": [],
   "source": [
    "import pickle"
   ]
  },
  {
   "cell_type": "code",
   "execution_count": 4,
   "metadata": {},
   "outputs": [],
   "source": [
    "# Load the fingerprints dataset\n",
    "with open('../data/mol_bits.pkl', 'rb') as f:\n",
    "    data = pickle.load(f)"
   ]
  },
  {
   "cell_type": "code",
   "execution_count": null,
   "metadata": {},
   "outputs": [],
   "source": [
    "print(type(data))\n",
    "print(data)"
   ]
  },
  {
   "cell_type": "markdown",
   "metadata": {},
   "source": [
    "---"
   ]
  },
  {
   "cell_type": "code",
   "execution_count": 2,
   "metadata": {},
   "outputs": [],
   "source": [
    "# Load the data from the csvs\n",
    "import pandas as pd\n",
    "import numpy as np\n",
    "import random\n",
    "\n",
    "random.seed(42)\n",
    "\n",
    "df_train_original = pd.read_csv(\"../data/activity_train.csv\", header=None)\n",
    "df_test = pd.read_csv(\"../data/activity_test_blanked.csv\", header=None)\n",
    "\n",
    "# Split train into train and validation\n",
    "train_idxs = random.sample(range(0, len(df_train_original)), int(len(df_train_original) * 0.9) )\n",
    "\n",
    "df_train = df_train_original.iloc[train_idxs]\n",
    "df_val = df_train_original.drop(train_idxs)\n"
   ]
  },
  {
   "cell_type": "code",
   "execution_count": 3,
   "metadata": {},
   "outputs": [],
   "source": [
    "# Pre-Processing\n",
    "from sklearn.preprocessing import LabelEncoder\n",
    "\n",
    "# Train\n",
    "# Get the input arrays from the df\n",
    "X_train_labels_x1 = df_train.iloc[:,0].to_numpy()\n",
    "X_train_labels_x2 = df_train.iloc[:,1].to_numpy()\n",
    "\n",
    "# Get unique values in x1 and convert them into integers\n",
    "label_enc_x1 = LabelEncoder()\n",
    "label_enc_x1.fit(X_train_labels_x1)\n",
    "X_train_transformed_x1 = label_enc_x1.transform(X_train_labels_x1)\n",
    "\n",
    "# Get unique values in x2 and convert them into integers\n",
    "label_enc_x2 = LabelEncoder()\n",
    "label_enc_x2.fit(X_train_labels_x2)\n",
    "X_train_transformed_x2 = label_enc_x2.transform(X_train_labels_x2)\n",
    "\n",
    "# ---\n",
    "\n",
    "# Validation\n",
    "# Get the input arrays from the df\n",
    "X_val_labels_x1 = df_val.iloc[:,0].to_numpy()\n",
    "X_val_labels_x2 = df_val.iloc[:,1].to_numpy()\n",
    "\n",
    "# Convert values into integers\n",
    "X_val_transformed_x1 = label_enc_x1.transform(X_val_labels_x1)\n",
    "\n",
    "# Get unique values in x2 and convert them into integers\n",
    "label_enc_x2_val = LabelEncoder()\n",
    "label_enc_x2_val.fit(X_val_labels_x2)\n",
    "X_val_transformed_x2 = label_enc_x2_val.transform(X_val_labels_x2)\n",
    "\n",
    "\n",
    "# ---\n",
    "# Test\n",
    "# Get the input arrays from the df\n",
    "X_test_labels_x1 = df_test.iloc[:,0].to_numpy()\n",
    "X_test_labels_x2 = df_test.iloc[:,1].to_numpy()\n",
    "\n",
    "# Convert values into integers\n",
    "X_test_transformed_x1 = label_enc_x1.transform(X_test_labels_x1)\n",
    "\n",
    "# Get unique values in x2 and convert them into integers\n",
    "label_enc_x2_test = LabelEncoder()\n",
    "label_enc_x2_test.fit(X_test_labels_x2)\n",
    "X_test_transformed_x2 = label_enc_x2_test.transform(X_test_labels_x2)"
   ]
  },
  {
   "cell_type": "code",
   "execution_count": 4,
   "metadata": {},
   "outputs": [],
   "source": [
    "# Get final inputs for the model\n",
    "X_train = np.column_stack((X_train_transformed_x1, X_train_transformed_x2))\n",
    "Y_train = df_train.iloc[:,2].to_numpy()\n",
    "\n",
    "X_val = np.column_stack((X_val_transformed_x1, X_val_transformed_x2))\n",
    "Y_val = df_val.iloc[:,2].to_numpy()\n",
    "\n",
    "X_test = np.column_stack((X_test_transformed_x1, X_test_transformed_x2))"
   ]
  },
  {
   "cell_type": "code",
   "execution_count": 5,
   "metadata": {},
   "outputs": [
    {
     "name": "stdout",
     "output_type": "stream",
     "text": [
      "0.009336002075703176\n"
     ]
    }
   ],
   "source": [
    "from sklearn.ensemble import RandomForestRegressor\n",
    "from sklearn.linear_model import LinearRegression\n",
    "\n",
    "import matplotlib.pyplot as plt\n",
    "\n",
    "plt.style.use('seaborn-v0_8-whitegrid')\n",
    "\n",
    "# SVM\n",
    "# NN ??\n",
    "# print(X)\n",
    "\n",
    "# --- Random Forest Regressor ---\n",
    "# num_estimators = range(10, 110, 10)\n",
    "# val_scores = []\n",
    "# best_model_score = -np.inf\n",
    "# best_model = None\n",
    "\n",
    "# # Grid search for the best number of estimators\n",
    "# for i in num_estimators:\n",
    "\n",
    "#     # Train the model\n",
    "#     model = RandomForestRegressor(n_estimators=i, random_state=42)\n",
    "#     model.fit(X_train, Y_train)\n",
    "\n",
    "#     # Calculate model error on validation set\n",
    "#     val_scores.append(model.score(X_val, Y_val))\n",
    "#     print(f\"RandomForestRegressor with {i} estimators has a score of {val_scores[-1]}\")\n",
    "\n",
    "#     # Save the best model\n",
    "#     if val_scores[-1] > best_model_score:\n",
    "#         best_model_score = val_scores[-1]\n",
    "#         best_model = model\n",
    "\n",
    "# # Plot the validation scores for each number of estimators\n",
    "# plt.plot(num_estimators, val_scores)\n",
    "# plt.xlabel(\"Number of estimators\")\n",
    "# plt.ylabel(\"Validation score\")\n",
    "# plt.show()\n",
    "\n",
    "# Get the predictions\n",
    "# rfr_predictions = model_rfr.predict(X_test)\n",
    "\n",
    "# --- Linear Regression ---\n",
    "# lr = LinearRegression(n_jobs=-1)\n",
    "# lr.fit(X_train, Y_train)\n",
    "\n",
    "# # Test on the val set\n",
    "# print(lr.score(X_val, Y_val))\n",
    "\n",
    "# # Get the predictions\n",
    "# lr_predictions = lr.predict(X_test)\n",
    "\n",
    "\n",
    "\n"
   ]
  }
 ],
 "metadata": {
  "kernelspec": {
   "display_name": "Python 3.11.3 ('venv_PD_assign1': venv)",
   "language": "python",
   "name": "python3"
  },
  "language_info": {
   "codemirror_mode": {
    "name": "ipython",
    "version": 3
   },
   "file_extension": ".py",
   "mimetype": "text/x-python",
   "name": "python",
   "nbconvert_exporter": "python",
   "pygments_lexer": "ipython3",
   "version": "3.11.3"
  },
  "orig_nbformat": 4,
  "vscode": {
   "interpreter": {
    "hash": "20c74cdbc8ec2e3c4e198006583141587c25c644c92a437c5bbd09c99dae4fd0"
   }
  }
 },
 "nbformat": 4,
 "nbformat_minor": 2
}
