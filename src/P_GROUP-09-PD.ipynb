{
 "cells": [
  {
   "cell_type": "markdown",
   "metadata": {},
   "source": [
    "# Prospecção de Dados (Data Mining) DI/FCUL - Project\n",
    "\n",
    "## Project (MC/DI/FCUL - 2024)\n",
    "\n",
    "### GROUP:`09`\n",
    "\n",
    "* Afonso Gama, 55857 - x Hours\n",
    "* Eduardo Carneiro, 62515 - x Hours\n",
    "* Guilherme Rosario, 62543 - x Hours\n",
    "* Marco Viana, 62550 - x Hours"
   ]
  },
  {
   "cell_type": "markdown",
   "metadata": {},
   "source": [
    "# TODO list:\n"
   ]
  },
  {
   "cell_type": "code",
   "execution_count": null,
   "metadata": {},
   "outputs": [],
   "source": [
    "import pickle"
   ]
  },
  {
   "cell_type": "code",
   "execution_count": null,
   "metadata": {},
   "outputs": [],
   "source": [
    "# Load the dataset\n",
    "with open('mol_bits.pkl', 'rb') as f:\n",
    "    data = pickle.load(f)"
   ]
  }
 ],
 "metadata": {
  "kernelspec": {
   "display_name": "Python 3.11.3 ('venv_PD_assign1': venv)",
   "language": "python",
   "name": "python3"
  },
  "language_info": {
   "name": "python",
   "version": "3.11.3"
  },
  "orig_nbformat": 4,
  "vscode": {
   "interpreter": {
    "hash": "20c74cdbc8ec2e3c4e198006583141587c25c644c92a437c5bbd09c99dae4fd0"
   }
  }
 },
 "nbformat": 4,
 "nbformat_minor": 2
}
